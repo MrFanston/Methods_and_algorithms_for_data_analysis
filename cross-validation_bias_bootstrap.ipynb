{
 "cells": [
  {
   "cell_type": "code",
   "execution_count": 1,
   "id": "49e42b9d",
   "metadata": {},
   "outputs": [],
   "source": [
    "import pandas as pd\n",
    "import seaborn as sns\n",
    "\n",
    "from math import floor\n",
    "from copy import deepcopy\n",
    "\n",
    "import random"
   ]
  },
  {
   "cell_type": "code",
   "execution_count": 2,
   "id": "88d6f367",
   "metadata": {},
   "outputs": [],
   "source": [
    "sns.set(rc={'figure.figsize': (11.7, 8.27)})"
   ]
  },
  {
   "cell_type": "code",
   "execution_count": 3,
   "id": "80f4649f",
   "metadata": {},
   "outputs": [
    {
     "name": "stdout",
     "output_type": "stream",
     "text": [
      "Collecting sklearn\n",
      "  Using cached sklearn-0.0.post12.tar.gz (2.6 kB)\n",
      "  Installing build dependencies: started\n",
      "  Installing build dependencies: finished with status 'done'\n",
      "  Getting requirements to build wheel: started\n",
      "  Getting requirements to build wheel: finished with status 'error'\n"
     ]
    },
    {
     "name": "stderr",
     "output_type": "stream",
     "text": [
      "  error: subprocess-exited-with-error\n",
      "  \n",
      "  × Getting requirements to build wheel did not run successfully.\n",
      "  │ exit code: 1\n",
      "  ╰─> [15 lines of output]\n",
      "      The 'sklearn' PyPI package is deprecated, use 'scikit-learn'\n",
      "      rather than 'sklearn' for pip commands.\n",
      "      \n",
      "      Here is how to fix this error in the main use cases:\n",
      "      - use 'pip install scikit-learn' rather than 'pip install sklearn'\n",
      "      - replace 'sklearn' by 'scikit-learn' in your pip requirements files\n",
      "        (requirements.txt, setup.py, setup.cfg, Pipfile, etc ...)\n",
      "      - if the 'sklearn' package is used by one of your dependencies,\n",
      "        it would be great if you take some time to track which package uses\n",
      "        'sklearn' instead of 'scikit-learn' and report it to their issue tracker\n",
      "      - as a last resort, set the environment variable\n",
      "        SKLEARN_ALLOW_DEPRECATED_SKLEARN_PACKAGE_INSTALL=True to avoid this error\n",
      "      \n",
      "      More information is available at\n",
      "      https://github.com/scikit-learn/sklearn-pypi-package\n",
      "      [end of output]\n",
      "  \n",
      "  note: This error originates from a subprocess, and is likely not a problem with pip.\n",
      "error: subprocess-exited-with-error\n",
      "\n",
      "× Getting requirements to build wheel did not run successfully.\n",
      "│ exit code: 1\n",
      "╰─> See above for output.\n",
      "\n",
      "note: This error originates from a subprocess, and is likely not a problem with pip.\n"
     ]
    }
   ],
   "source": [
    "# Установка библиотеки sklearn\n",
    "!pip3 install sklearn"
   ]
  },
  {
   "cell_type": "code",
   "execution_count": 4,
   "id": "4dafa300",
   "metadata": {},
   "outputs": [],
   "source": [
    "from sklearn.linear_model import LinearRegression"
   ]
  },
  {
   "cell_type": "code",
   "execution_count": 5,
   "id": "b17fa6ff",
   "metadata": {},
   "outputs": [],
   "source": [
    "class ShuffleOnceRandom():\n",
    "    \"\"\"\n",
    "    Генератор случайных чисел, который запрещает использовать\n",
    "    функцию shuffle больше одного раза.\n",
    "    \"\"\"\n",
    "    \n",
    "    def __init__(self, seed=None):\n",
    "        import random\n",
    "        \n",
    "        self._random_gen = random.Random(seed)\n",
    "        self._shuffle_cnt = 0\n",
    "        \n",
    "    def shuffle(self, l):\n",
    "        if self._shuffle_cnt > 0:\n",
    "            raise RuntimeError('Нельзя использовать функцию shuffle больше одного раза')\n",
    "            \n",
    "        self._shuffle_cnt += 1\n",
    "        self._random_gen.shuffle(l)"
   ]
  },
  {
   "cell_type": "code",
   "execution_count": 6,
   "id": "2fdebbea",
   "metadata": {},
   "outputs": [],
   "source": [
    "class ChoicesNRandom():\n",
    "    \"\"\"\n",
    "    Генератор случайных чисел, который запрещает использовать\n",
    "    функцию choices больше n раз.\n",
    "    \"\"\"\n",
    "    \n",
    "    def __init__(self, seed=None, n=1):\n",
    "        import random\n",
    "        \n",
    "        self._random_gen = random.Random(seed)\n",
    "        self._choices_cnt = 0\n",
    "        self._n = n\n",
    "        \n",
    "    def choices(self, *args, **kwargs):\n",
    "        if self._choices_cnt >= self._n:\n",
    "            raise RuntimeError(f'Нельзя использовать функцию choices больше {self._n} раз')\n",
    "            \n",
    "        self._choices_cnt += 1\n",
    "        return self._random_gen.choices(*args, **kwargs)"
   ]
  },
  {
   "cell_type": "markdown",
   "id": "7ba1addb",
   "metadata": {},
   "source": [
    "# Разбиение на обучающую, валидационную и тестовую выборки"
   ]
  },
  {
   "cell_type": "code",
   "execution_count": 7,
   "id": "67534ca9",
   "metadata": {},
   "outputs": [],
   "source": [
    "def train_test_split_solution(data, \n",
    "                              train_frac,\n",
    "                              random_gen):\n",
    "    \"\"\"\n",
    "    Разбивает переданный список объектов на обучающую и тестовую выборки.\n",
    "    \n",
    "    Аргументы:\n",
    "        data: Список объектов, который нужно разделить на части.\n",
    "        train_frac: Доля объектов, которые нужно отправить в обучающую выборку.\n",
    "        random_gen: Генератор случайных чисел.\n",
    "        \n",
    "    Возвращаемое значение:\n",
    "        Пара списков: обучающая выборка, тестовая выборка.\n",
    "    \"\"\"\n",
    "\n",
    "    data_copy = deepcopy(data)\n",
    "    random_gen.shuffle(data_copy)\n",
    "\n",
    "    len_data_train = floor(len(data_copy) * train_frac)\n",
    "\n",
    "    data_train = data_copy[:len_data_train]\n",
    "    data_test = data_copy[len_data_train:]\n",
    "\n",
    "    return data_train, data_test    "
   ]
  },
  {
   "cell_type": "code",
   "execution_count": 8,
   "id": "578fef89",
   "metadata": {},
   "outputs": [],
   "source": [
    "def train_test_split_tests():\n",
    "    example_1_data = [1, 2, 3, 4, 5, 6, 7, 8, 9, 10]\n",
    "    example_1_train_frac = 0.7\n",
    "    example_1_random_gen = ShuffleOnceRandom(0)\n",
    "    \n",
    "    example_1_res = [8, 9, 2, 6, 4, 5, 3], [1, 10, 7]\n",
    "    \n",
    "    assert train_test_split_solution(example_1_data, \n",
    "                                     example_1_train_frac, \n",
    "                                     example_1_random_gen) == example_1_res\n",
    "    \n",
    "    \n",
    "    example_2_data = [i % 5 for i in range(100)]\n",
    "    example_2_train_frac = 0.9\n",
    "    example_2_random_gen = ShuffleOnceRandom(0)\n",
    "    \n",
    "    example_2_res = [3, 3, 1, 2, 3, 3, 1, 1, 4, 4, 1, 3, 2, 1, 0, 2, 2, 2, 3, 1, 4, 1, 4, 0, 4, 0, 2, 4, 3, 2, 3, 1, 3, 4, 1, 3, 4, 3, 4, 4, 4, 0, 4, 0, 0, 1, 1, 1, 2, 2, 3, 0, 4, 0, 3, 1, 1, 0, 2, 0, 3, 2, 3, 0, 1, 0, 1, 0, 0, 4, 0, 1, 0, 2, 4, 2, 4, 3, 2, 3, 2, 4, 2, 0, 1, 2, 4, 2, 4, 0], [1, 3, 1, 2, 0, 3, 0, 3, 2, 4]\n",
    "    \n",
    "    assert train_test_split_solution(example_2_data, \n",
    "                                     example_2_train_frac, \n",
    "                                     example_2_random_gen) == example_2_res\n",
    "    \n",
    "    print('Все тесты прошли успешно!')"
   ]
  },
  {
   "cell_type": "code",
   "execution_count": 9,
   "id": "835decd7",
   "metadata": {},
   "outputs": [
    {
     "name": "stdout",
     "output_type": "stream",
     "text": [
      "Все тесты прошли успешно!\n"
     ]
    }
   ],
   "source": [
    "train_test_split_tests()"
   ]
  },
  {
   "cell_type": "markdown",
   "id": "580cef6a",
   "metadata": {},
   "source": [
    "# Кросс-валидация"
   ]
  },
  {
   "cell_type": "code",
   "execution_count": 10,
   "id": "b1c4fe20",
   "metadata": {},
   "outputs": [],
   "source": [
    "def round_to_3(x):\n",
    "    \"\"\"\n",
    "    Принимает число и возвращает результат его округления\n",
    "    до 3 знаков после запятой.\n",
    "    \n",
    "    Аргументы:\n",
    "        x: Число.\n",
    "        \n",
    "    Возвращаемое значение:\n",
    "        Результат округления числа до 3 знаков после запятой.\n",
    "    \"\"\"\n",
    "    \n",
    "    return round(x, 3)"
   ]
  },
  {
   "cell_type": "code",
   "execution_count": 11,
   "id": "64562776",
   "metadata": {},
   "outputs": [],
   "source": [
    "def split_into_k(l, k):\n",
    "    \"\"\"\n",
    "    Разделяет список на k частей.\n",
    "    \n",
    "    Аргументы:\n",
    "        l: Список с объектами.\n",
    "        k: Число частей, на которые нужно разделить список.\n",
    "        \n",
    "    Возвращаемое значение:\n",
    "        Возвращает список из k частей исходного списка.\n",
    "    \"\"\"\n",
    "    \n",
    "    l_mod_k = len(l) % k\n",
    "    l_div_k = len(l) // k\n",
    "    \n",
    "    res = []\n",
    "    \n",
    "    for i in range(k):\n",
    "        res.append(l[i * l_div_k:(i + 1) * l_div_k])\n",
    "        \n",
    "    for i in range(l_mod_k):\n",
    "        res[i].append(l[l_div_k * k + i])\n",
    "        \n",
    "    return res\n",
    "\n",
    "def score_model(model, x_test, y_test):\n",
    "    \"\"\"\n",
    "    Оценивает точность модели по метрике «среднее отклонение от предсказанного значения».\n",
    "    \n",
    "    Аргументы:\n",
    "        model: Модель.\n",
    "        x_test: Список объектов тестовой выборки.\n",
    "        y_test: Список значений предсказываемой характеристики для объектов из тестовой выборки.\n",
    "                Значение на $i$-ой позиции в списке соответствует $i$-ому объекту тестовой выборки.\n",
    "        \n",
    "    Возвращаемое значение:\n",
    "        Точность модели.\n",
    "    \"\"\"\n",
    "    \n",
    "    y_pred = model.predict(x_test)\n",
    "    \n",
    "    res = 0\n",
    "\n",
    "    for i in range(len(y_test)):\n",
    "        res += abs(y_pred[i] - y_test[i])\n",
    "        \n",
    "    return res / len(y_test)"
   ]
  },
  {
   "cell_type": "code",
   "execution_count": 30,
   "id": "554dcb23",
   "metadata": {},
   "outputs": [],
   "source": [
    "def k_fold_solution(model, data_x, data_y, k, random_gen):\n",
    "    \"\"\"\n",
    "    Проводит кросс-валидацию заданной модели методом k-Fold.\n",
    "    \n",
    "    Аргументы:\n",
    "        model: Модель, точность которой нужно оценить с помощью кросс-валидации.\n",
    "        data_x: Список объектов, на основе которых нужно построить модель.\n",
    "                Каждый объект представлен списком значений факторов.\n",
    "        data_y: Список значений предсказываемой величины для каждого из объектов.\n",
    "                На $i$-ой позиции в списке data_y находится предсказываемое\n",
    "                значение для $i$-го объекта из списка data_x.\n",
    "             k: Количество частей, на которые нужно разбить данные при кросс-валидации.\n",
    "        random_gen: Генератор случайных чисел.\n",
    "        \n",
    "    Возвращаемое значение:\n",
    "        Усреднённая по всем итерациям k-Fold точность модели.\n",
    "    \"\"\"\n",
    "    \n",
    "    score = 0\n",
    "\n",
    "    data_xy = list(zip(data_x, data_y))\n",
    "    random_gen.shuffle(data_xy)\n",
    "\n",
    "    data_xy = split_into_k(data_xy, k)\n",
    "\n",
    "    for i in range(k):\n",
    "        # Выбираем тестовую выборку\n",
    "        test_data = data_xy[i]\n",
    "        \n",
    "        # Формируем тестовую выборку\n",
    "        train_data = []\n",
    "        for j in range(k):\n",
    "            if j != i:\n",
    "                train_data.extend(data_xy[j])\n",
    "\n",
    "        x_train, y_train = zip(*train_data)\n",
    "        x_test, y_test = zip(*test_data)\n",
    "\n",
    "        # Обучаем модель\n",
    "        model.fit(x_train, y_train)\n",
    "\n",
    "        score += score_model(model, x_test, y_test)\n",
    "    \n",
    "    return round_to_3(score / k)"
   ]
  },
  {
   "cell_type": "code",
   "execution_count": 13,
   "id": "33c77a3e",
   "metadata": {},
   "outputs": [],
   "source": [
    "def k_fold_test():\n",
    "    data_x_example_1 = [[1], [2], [3]]\n",
    "    data_y_example_1 = [1, 2, 3]\n",
    "    \n",
    "    assert k_fold_solution(LinearRegression(), \n",
    "                           data_x_example_1, data_y_example_1, 3, \n",
    "                           ShuffleOnceRandom(0)) == 0.0\n",
    "    \n",
    "    data_example_2 = pd.read_csv('k_fold_test_data.csv')\n",
    "    \n",
    "    data_x_example_2 = [[x] for x in list(data_example_2['x'])]\n",
    "    data_y_example_2 = list(data_example_2['y'])\n",
    "    \n",
    "    assert k_fold_solution(LinearRegression(), \n",
    "                           data_x_example_2, data_y_example_2, 100, \n",
    "                           ShuffleOnceRandom(0)) == 0.602\n",
    "    \n",
    "    print('Тест прошёл успешно!')"
   ]
  },
  {
   "cell_type": "code",
   "execution_count": 31,
   "id": "daa2815d",
   "metadata": {},
   "outputs": [
    {
     "name": "stdout",
     "output_type": "stream",
     "text": [
      "Тест прошёл успешно!\n"
     ]
    }
   ],
   "source": [
    "k_fold_test()"
   ]
  },
  {
   "cell_type": "markdown",
   "id": "c8f2b4bc",
   "metadata": {},
   "source": [
    "# Погрешность оценки качества"
   ]
  },
  {
   "cell_type": "code",
   "execution_count": 15,
   "id": "9d46a1f4",
   "metadata": {},
   "outputs": [],
   "source": [
    "error_modeling_data = pd.read_csv('error_modelling.csv')"
   ]
  },
  {
   "cell_type": "code",
   "execution_count": 16,
   "id": "e537c2ba",
   "metadata": {},
   "outputs": [],
   "source": [
    "y = list(error_modeling_data['y'])\n",
    "y_pred = list(error_modeling_data['y_pred'])"
   ]
  },
  {
   "cell_type": "code",
   "execution_count": 17,
   "id": "cb22e73c",
   "metadata": {},
   "outputs": [],
   "source": [
    "y_and_y_pred = list(zip(y, y_pred))"
   ]
  },
  {
   "cell_type": "code",
   "execution_count": 46,
   "id": "14162fe6",
   "metadata": {},
   "outputs": [
    {
     "name": "stdout",
     "output_type": "stream",
     "text": [
      "Погрешность:  0.004\n",
      "Дисперсия:  1.205\n"
     ]
    },
    {
     "data": {
      "image/png": "[encoded data removed]",
      "text/plain": [
       "<Figure size 1170x827 with 1 Axes>"
      ]
     },
     "metadata": {},
     "output_type": "display_data"
    }
   ],
   "source": [
    "error_modeling_random_gen = random.Random(0)\n",
    "\n",
    "errs = []\n",
    "\n",
    "for i in range(10_000):\n",
    "    # необходимо сгенерировать случайную выборку объектов исходного множества\n",
    "    # и оценить точность работы модели на этой выборке\n",
    "    \n",
    "    # Генерация подмножеств\n",
    "    sample_values = error_modeling_random_gen.sample(y_and_y_pred, 100)\n",
    "\n",
    "    # Вычисление метрики (среднее отклонение от предсказанного значения)\n",
    "    errs_local = 0\n",
    "\n",
    "    y_sample, y_pred_sample = zip(*sample_values)\n",
    "\n",
    "    for i in range(100):\n",
    "        errs_local += abs(y_sample[i] - y_pred_sample[i])\n",
    "    \n",
    "    errs.append(errs_local / 100)\n",
    "\n",
    "# Распределение оценок точности модели, вычисленных на случайных выборках\n",
    "sns.histplot(errs)\n",
    "\n",
    "# Среднее арифметическое оценок модели, полученных на случайных выборках\n",
    "errs_mean = sum(errs) / len(errs) \n",
    "\n",
    "# Точность модели, оценённая по всем данным\n",
    "errs_all_data = 0\n",
    "for i in range(len(y)):\n",
    "    errs_all_data += abs(y[i] - y_pred[i])\n",
    "errs_all_data /= len(y)\n",
    "\n",
    "print(\"Погрешность: \", round_to_3(abs(errs_mean - errs_all_data)))\n",
    "\n",
    "# Дисперсия оценки \n",
    "sko_accuracy_estimates = (sum([(x - errs_mean) ** 2 for x in errs]) / len(errs)) ** 0.5\n",
    "\n",
    "print(\"Дисперсия: \", round_to_3(sko_accuracy_estimates))\n"
   ]
  },
  {
   "cell_type": "markdown",
   "id": "d3e21242",
   "metadata": {},
   "source": [
    "# Бутстрап"
   ]
  },
  {
   "cell_type": "code",
   "execution_count": 19,
   "id": "5f2f8ca4",
   "metadata": {},
   "outputs": [],
   "source": [
    "def cut_on_edges(l, fraction_to_cut):\n",
    "    \"\"\"\n",
    "    Отбрасывает с левого и с правого концов переданного списка заданную долю элементов.\n",
    "    \n",
    "    Аргументы:\n",
    "        l: Список элементов.\n",
    "        fraction_to_cut: Доля элементов, которую нужно отбросить с каждой из сторон списка.\n",
    "        \n",
    "    Возвращаемое значение:\n",
    "        Новый список, в котором с левого и с правого концов отборешна заданная доля элементов.\n",
    "    \"\"\"\n",
    "    \n",
    "    to_cut = floor(len(l) * fraction_to_cut)\n",
    "    return l[to_cut:len(l) - to_cut]"
   ]
  },
  {
   "cell_type": "code",
   "execution_count": 56,
   "id": "f5175d9a",
   "metadata": {},
   "outputs": [],
   "source": [
    "def bootstrap_confidence_interval_solution(y, y_pred, fraction_to_cut, random_gen):\n",
    "    \"\"\"\n",
    "    Вычисляет доверительный интервал для точности модели на тестовой выборке с помощью бутстрапа.\n",
    "    \n",
    "    Аргументы:\n",
    "        y: Реальные значения предсказываемой характеристики для объектов тестовой выборки.\n",
    "        y_pred: Предсказанные с помощью модели значения характеристики для объектов тестовой выборки.\n",
    "                $i$-ый элемент списка y_pred соответствует предсказанию моделью\n",
    "                значения под номером $i$ в списке y.\n",
    "        fraction_to_cut: Доля элементов, которую нужно отбросить с каждого из концов списка полученных с помощью\n",
    "                         бутстрапа значений перед получением доверительного интервала.\n",
    "        random_gen: Генератор случайных чисел.\n",
    "        \n",
    "    Возвращаемое значение:\n",
    "        Доверительный интервал для точности модели, оценённой по метрике\n",
    "        «среднее отклонение от предсказанного значения».\n",
    "        Представляется в виде пары значений: левая граница интервала, правая граница интервала.\n",
    "    \"\"\"\n",
    "\n",
    "    errs = []\n",
    "\n",
    "    y_and_y_pred = list(zip(y, y_pred))\n",
    "\n",
    "    len_sample = len(y)\n",
    "\n",
    "    for i in range(10_000):\n",
    "        # Генерация бутстрэп-выборки\n",
    "        sample = random_gen.choices(y_and_y_pred, k=len_sample)\n",
    "        y_sample, y_pred_sample = zip(*sample) \n",
    "\n",
    "        # Вычисление метрики (среднее отклонение от предсказанного значения)\n",
    "        errs_local = 0\n",
    "\n",
    "        for i in range(len_sample):\n",
    "            errs_local += abs(y_sample[i] - y_pred_sample[i])\n",
    "    \n",
    "        errs.append(errs_local / len_sample)\n",
    "    \n",
    "    # Генерация доверительного интервала\n",
    "    errs.sort()\n",
    "    confidence_interval = cut_on_edges(errs, fraction_to_cut)\n",
    "\n",
    "    # Левая и правая границы доверительного интервала\n",
    "    return round_to_3(confidence_interval[0]), round_to_3(confidence_interval[-1])"
   ]
  },
  {
   "cell_type": "code",
   "execution_count": 48,
   "id": "91bf0e82",
   "metadata": {},
   "outputs": [],
   "source": [
    "def bootstrap_confidence_interval_test():\n",
    "    error_modeling_data = pd.read_csv('error_modelling.csv')\n",
    "    \n",
    "    y = list(error_modeling_data['y'])\n",
    "    y_pred = list(error_modeling_data['y_pred'])\n",
    "    \n",
    "    y_y_pred = list(zip(y, y_pred))\n",
    "    \n",
    "    random_gen = random.Random(0)\n",
    "    y_y_pred_example_1 = random_gen.sample(y_y_pred, 100)\n",
    "    \n",
    "    y_example_1 = [x[0] for x in y_y_pred_example_1]\n",
    "    y_pred_example_1 = [x[1] for x in y_y_pred_example_1]\n",
    "    random_gen_example_1 = ChoicesNRandom(0, n=10000)\n",
    "    \n",
    "    res_example_1 = 7.178, 13.509\n",
    "    \n",
    "    assert bootstrap_confidence_interval_solution(y_example_1, y_pred_example_1, 0.025, random_gen_example_1) == res_example_1\n",
    "    \n",
    "    print('Тест прошёл успешно!')"
   ]
  },
  {
   "cell_type": "code",
   "execution_count": 57,
   "id": "528e8347",
   "metadata": {},
   "outputs": [
    {
     "name": "stdout",
     "output_type": "stream",
     "text": [
      "Тест прошёл успешно!\n"
     ]
    }
   ],
   "source": [
    "bootstrap_confidence_interval_test()"
   ]
  }
 ],
 "metadata": {
  "kernelspec": {
   "display_name": "Python 3",
   "language": "python",
   "name": "python3"
  },
  "language_info": {
   "codemirror_mode": {
    "name": "ipython",
    "version": 3
   },
   "file_extension": ".py",
   "mimetype": "text/x-python",
   "name": "python",
   "nbconvert_exporter": "python",
   "pygments_lexer": "ipython3",
   "version": "3.7.6"
  }
 },
 "nbformat": 4,
 "nbformat_minor": 5
}
